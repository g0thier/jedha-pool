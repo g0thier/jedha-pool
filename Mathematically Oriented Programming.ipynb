{
 "cells": [
  {
   "cell_type": "code",
   "execution_count": 3,
   "id": "8cf9fd25",
   "metadata": {},
   "outputs": [
    {
     "name": "stdout",
     "output_type": "stream",
     "text": [
      "the square root of 9 is 3.0\n",
      "the average of 10, 30, 20 and 10 is 17.5\n",
      "4 is even\n",
      "11 is odd\n",
      "the sum of 10, 30, 10 and 20 is 110\n"
     ]
    },
    {
     "data": {
      "text/plain": [
       "110"
      ]
     },
     "execution_count": 3,
     "metadata": {},
     "output_type": "execute_result"
    }
   ],
   "source": [
    "def from_list_to_string(list):\n",
    "    string = \"\"\n",
    "    for item in list[:-1]: \n",
    "        string = string + str(item) + \", \"\n",
    "    string = string + str(list[-1])\n",
    "    return string\n",
    "\n",
    "\n",
    "# Create a class to be called \"math.\"\n",
    "class Math():\n",
    "    \n",
    "    # Create a method that will compute the square root of any number.\n",
    "    def square_root(self, number):\n",
    "        sqr_root = number**0.5\n",
    "\n",
    "        print(\"the square root of\", number ,\"is\", sqr_root) \n",
    "        return sqr_root\n",
    "\n",
    "    # Create a method that will calculate the average of any list of numbers.\n",
    "    def average_of_list(self, list):\n",
    "        average = 0 \n",
    "        sum = 0\n",
    "        nb_element = 0\n",
    "\n",
    "        for element in list:\n",
    "            sum = sum + element\n",
    "            nb_element = nb_element + 1\n",
    "\n",
    "        average = sum / nb_element\n",
    "\n",
    "        print(\"the average of\", from_list_to_string(list[:-1])  ,\"and\", list[-1] ,\"is\" , average )\n",
    "        return average\n",
    "\n",
    "    # Create a method to find out if a number is even or odd.\n",
    "    def even_or_odd(self, number):\n",
    "        divide = number / 2\n",
    "\n",
    "        if divide == int(divide):\n",
    "            print(number, \"is even\") # paire\n",
    "            return True\n",
    "        else:\n",
    "            print(number, \"is odd\") # impaire\n",
    "            return False\n",
    "\n",
    "    # Finally, create a method that will give the total sum of a list of numbers.\n",
    "    def total_sum_of(self, list):\n",
    "        number = 0\n",
    "\n",
    "        for element in list:\n",
    "            number = number + element\n",
    "\n",
    "        print(\"the sum of\", from_list_to_string(list[:-2])  ,\"and\", list[-1] ,\"is\" , number )\n",
    "        return number\n",
    "    \n",
    "\n",
    "# Truc à afficher :\n",
    "\n",
    "Math().square_root(9)\n",
    "    \n",
    "Math().average_of_list([10, 30, 20, 10])\n",
    "\n",
    "Math().even_or_odd(4)\n",
    "\n",
    "Math().even_or_odd(11)\n",
    "\n",
    "Math().total_sum_of([10, 30, 10, 40, 20])\n",
    "\n",
    "\n",
    "# print(\"blablabla {.0f}\".format(myVariable))"
   ]
  }
 ],
 "metadata": {
  "interpreter": {
   "hash": "aee8b7b246df8f9039afb4144a1f6fd8d2ca17a180786b69acc140d282b71a49"
  },
  "kernelspec": {
   "display_name": "Python 3.9.5 64-bit",
   "language": "python",
   "name": "python3"
  },
  "language_info": {
   "codemirror_mode": {
    "name": "ipython",
    "version": 3
   },
   "file_extension": ".py",
   "mimetype": "text/x-python",
   "name": "python",
   "nbconvert_exporter": "python",
   "pygments_lexer": "ipython3",
   "version": "3.9.5"
  }
 },
 "nbformat": 4,
 "nbformat_minor": 5
}
