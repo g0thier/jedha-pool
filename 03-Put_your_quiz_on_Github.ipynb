{
 "cells": [
  {
   "cell_type": "markdown",
   "metadata": {},
   "source": [
    "# Build a quiz - Part 3 \n",
    "\n",
    "Let's now push our quiz to Github to practice our new skills !\n",
    "Repeat the steps from the exercise 02-Pushing_a_repo_to_Github to push your notebook with the quizz. Make sure your code is DRY, clean and easily readable. \n",
    "\n",
    "Send the link to your remote repository to your teacher.\n",
    "\n",
    "Congrats, you've completed your first project !"
   ]
  },
  {
   "cell_type": "code",
   "execution_count": 1,
   "metadata": {},
   "outputs": [
    {
     "name": "stdout",
     "output_type": "stream",
     "text": [
      "Voici notre quiz, tu as trois chances !\n",
      "Bravo ! Tu as gagné le quiz !\n"
     ]
    }
   ],
   "source": [
    "nb_de_chances = 3\n",
    "\n",
    "questions = {\n",
    "  \"Combien de fois la France a gagné la coupe du monde ? \": \"2\",\n",
    "  \"Quand a été fondé Apple ? \": \"1976\",\n",
    "  \"Qui a fondé SpaceX ? \": \"elon musk\"\n",
    "            }\n",
    "\n",
    "print(\"Voici notre quiz, tu as trois chances !\")\n",
    "\n",
    "# Parcours toutes les clefs du dictionnaire Questions \n",
    "#\n",
    "for key in questions:\n",
    "\n",
    "    # Tant que le nombre de chance n'a pas été épuissé \n",
    "    #\n",
    "    if nb_de_chances > 0:\n",
    "\n",
    "        # Pose la question au moins une fois \n",
    "        #\n",
    "        user_answer = input(key)\n",
    "        user_answer = user_answer.lower()\n",
    "\n",
    "        # Tant que la réponse est fausse, repose la question en supprimant une chance \n",
    "        #\n",
    "        while user_answer != questions[key]:\n",
    "            nb_de_chances -=1\n",
    "            print(\"Dommage ! Il te reste {} chances\".format(nb_de_chances))\n",
    "            \n",
    "            # Sort de la boucle si l'on epuisse ses chances et dit que l'on a perdu \n",
    "            #\n",
    "            if nb_de_chances == 0:\n",
    "                print(\"Oh non ! Tu as perdu le jeu...\")\n",
    "                break\n",
    "\n",
    "            user_answer = input(key)\n",
    "            user_answer = user_answer.lower()\n",
    "\n",
    "# A la fin du parcours des questions, s'il reste des vies, félicite le joueur.\n",
    "#\n",
    "if nb_de_chances > 0:\n",
    "    print(\"Bravo ! Tu as gagné le quiz !\")"
   ]
  }
 ],
 "metadata": {
  "interpreter": {
   "hash": "aee8b7b246df8f9039afb4144a1f6fd8d2ca17a180786b69acc140d282b71a49"
  },
  "kernelspec": {
   "display_name": "Python 3.9.5 64-bit",
   "language": "python",
   "name": "python3"
  },
  "language_info": {
   "codemirror_mode": {
    "name": "ipython",
    "version": 3
   },
   "file_extension": ".py",
   "mimetype": "text/x-python",
   "name": "python",
   "nbconvert_exporter": "python",
   "pygments_lexer": "ipython3",
   "version": "3.9.5"
  },
  "orig_nbformat": 2
 },
 "nbformat": 4,
 "nbformat_minor": 2
}
